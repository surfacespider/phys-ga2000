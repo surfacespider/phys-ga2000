{
 "cells": [
  {
   "cell_type": "code",
   "execution_count": 7,
   "id": "37543870",
   "metadata": {},
   "outputs": [
    {
     "name": "stdout",
     "output_type": "stream",
     "text": [
      "the derivative of x(x-1) at x = 1 is 1, with a delta of 10^-2 we get 1.010000000000001 a difference of 10^-2\n",
      " \n",
      "numerical derivative for delta = 0.01 : 1.010000000000001\n",
      "error from actual: 0.010000000000000897\n",
      " \n",
      "numerical derivative for delta = 0.0001 : 1.0000999999998899\n",
      "error from actual: 9.999999988985486e-05\n",
      " \n",
      "numerical derivative for delta = 1e-06 : 1.0000009999177333\n",
      "error from actual: 9.99917733279787e-07\n",
      " \n",
      "numerical derivative for delta = 1e-08 : 1.0000000039225287\n",
      "error from actual: 3.922528746258536e-09\n",
      " \n",
      "numerical derivative for delta = 1e-10 : 1.000000082840371\n",
      "error from actual: 8.284037100736441e-08\n",
      " \n",
      "numerical derivative for delta = 1e-12 : 1.0000889005833413\n",
      "error from actual: 8.890058334132256e-05\n",
      " \n",
      "numerical derivative for delta = 1e-14 : 0.9992007221626509\n",
      "error from actual: 0.0007992778373491216\n",
      " \n"
     ]
    }
   ],
   "source": [
    "import numpy as np\n",
    "def our_function(x_value):\n",
    "    return (x_value*(x_value-1)) #our function is x*(x-1)\n",
    "def derivative(x_value, delta):\n",
    "    numerator = our_function((x_value+delta)) - our_function(x_value) # the derivative of x*(x-1) is 2x - 1)\n",
    "    return numerator/delta\n",
    "\n",
    "delta = 10**-2\n",
    "print('the derivative of x(x-1) at x = 1 is 1, with a delta of 10^-2 we get', derivative(1,delta), 'a difference of 10^-2')\n",
    "print(' ') #this differs because we have to take the limit as delta goes to zero so we need a smaller delta\n",
    "\n",
    "deltas = [10**-2, 10**-4,10**-6,10**-8,10**-10,10**-12,10**-14]\n",
    "for i in deltas:\n",
    "    print('numerical derivative for delta =', i, ':', derivative(1,i))\n",
    "    print('error from actual:', abs(derivative(1,i)-1))\n",
    "    print(' ') #the error initially starts dropping but then starts rising again. computers dont like\n",
    "    # really small numbers. as we get smaller we start getting rounding errors building up"
   ]
  },
  {
   "cell_type": "code",
   "execution_count": 17,
   "id": "e6592ce1",
   "metadata": {},
   "outputs": [
    {
     "name": "stdout",
     "output_type": "stream",
     "text": [
      "the derivative of x(x-1) at x = 1 is 1, with a delta of 10^-2 we get 1.010000000000001 a difference of 10^-2\n",
      "the calculated derivative for 0.01 is 1.010000000000001 an error of 0.010000000000000897\n",
      "the calculated derivative for 0.0001 is 1.0000999999998899 an error of 9.999999988985486e-05\n",
      "the calculated derivative for 1e-06 is 1.0000009999177333 an error of 9.99917733279787e-07\n",
      "the calculated derivative for 1e-08 is 1.0000000039225287 an error of 3.922528746258536e-09\n",
      "the calculated derivative for 1e-10 is 1.000000082840371 an error of 8.284037100736441e-08\n",
      "the calculated derivative for 1e-12 is 1.0000889005833413 an error of 8.890058334132256e-05\n",
      "the calculated derivative for 1e-14 is 0.9992007221626509 an error of 0.0007992778373491216\n"
     ]
    }
   ],
   "source": []
  },
  {
   "cell_type": "code",
   "execution_count": null,
   "id": "7e430999",
   "metadata": {},
   "outputs": [],
   "source": []
  },
  {
   "cell_type": "code",
   "execution_count": null,
   "id": "0fa2ddfa",
   "metadata": {},
   "outputs": [],
   "source": []
  },
  {
   "cell_type": "code",
   "execution_count": null,
   "id": "bc947c92",
   "metadata": {},
   "outputs": [],
   "source": []
  }
 ],
 "metadata": {
  "kernelspec": {
   "display_name": "Python 3 (ipykernel)",
   "language": "python",
   "name": "python3"
  },
  "language_info": {
   "codemirror_mode": {
    "name": "ipython",
    "version": 3
   },
   "file_extension": ".py",
   "mimetype": "text/x-python",
   "name": "python",
   "nbconvert_exporter": "python",
   "pygments_lexer": "ipython3",
   "version": "3.11.4"
  }
 },
 "nbformat": 4,
 "nbformat_minor": 5
}
