{
 "cells": [
  {
   "cell_type": "code",
   "execution_count": 1,
   "id": "c017677a",
   "metadata": {},
   "outputs": [],
   "source": [
    "import numpy as np\n",
    "import matplotlib.pyplot as plt\n",
    "import scipy\n",
    "from numpy import copy\n",
    "from scipy import linalg\n",
    "\n",
    "#initialize constants and grid\n",
    "h = 10**-6 #seconds\n",
    "hbar = 1\n",
    "L = 1 #nano meters\n",
    "N = 10001\n",
    "a = L/(N-1)\n",
    "x_0 = L/2\n",
    "m = 1 #9.109 * 10**-31 # kg\n",
    "sigma = L/10\n",
    "k = 50/L\n",
    "\n",
    "#initialize wave function\n",
    "xs = np.linspace(0,L,N)\n",
    "psi = np.exp(-1*((xs-x_0)**2)/(2*sigma**2))*np.exp(1j*k*xs)\n",
    "psi[0] = 0\n",
    "psi[-1] = 0\n",
    "\n",
    "a1 = 1+h*1j*hbar/(2*m*a**2)\n",
    "a2 = -h*1j*hbar/(4*m*a**2)\n",
    "b1 = 1 - 1j*h*hbar/(2*m*a**2)\n",
    "b2 = h*1j*hbar/(4*m*a**2)\n",
    "\n",
    "\n",
    "#make our banded matrix\n",
    "center = np.full(N,a1)\n",
    "upperband = np.full(N,a2)\n",
    "lowerband = np.full(N,a2)\n",
    "upperband[0] = 0\n",
    "lowerband[-1] = 0\n",
    "\n",
    "A = np.asarray([upperband,center,lowerband])\n",
    "\n",
    "psi_data = []\n",
    "for t in np.arange(0, .05,h):\n",
    "    psi_data.append(psi.copy()) #save data\n",
    "    \n",
    "    #make a copy because otherwise youre doing weird pointer stuff that doesnt do what you want it to do\n",
    "    #psi_calc = psi.copy()\n",
    "    psi_calc = np.concatenate(([0],psi,[0])) #add outside for vectorized neighbor interaction\n",
    "    v = b1*psi_calc[1:-1]+ b2*(psi_calc[2:]+psi_calc[:-2]) #neigbor interaction\n",
    "    \n",
    "    psi = scipy.linalg.solve_banded((1,1),A,v) #solve the matrix\n",
    "    #psi = banded(A,v,1,1)\n",
    "    psi[0] = 0 #set boundary condition again\n",
    "    psi[-1]= 0\n",
    "    \n",
    "psi_values = np.asarray(psi_data)\n",
    "\n",
    "plt.plot(xs, psi_values[0].real,linewidth = 1,label = 'psi, t = 0')\n",
    "plt.plot(xs, psi_values[4000].real,linewidth = 1, label= 'psi, t = ' + str(4000*h))\n",
    "plt.plot(xs, psi_values[31000].real,linewidth = 1, label = 'psi, t = ' + str(31000*h))\n",
    "plt.xlabel('Position in box (nm)')\n",
    "plt.ylabel('Amplitude')\n",
    "plt.legend()\n",
    "plt.title('real part of wave function')\n",
    "plt.savefig('wavefunction.png')"
   ]
  },
  {
   "cell_type": "code",
   "execution_count": null,
   "id": "12de48c1",
   "metadata": {},
   "outputs": [],
   "source": []
  },
  {
   "cell_type": "code",
   "execution_count": null,
   "id": "22108de7",
   "metadata": {},
   "outputs": [],
   "source": []
  },
  {
   "cell_type": "code",
   "execution_count": null,
   "id": "3735f32f",
   "metadata": {},
   "outputs": [],
   "source": []
  },
  {
   "cell_type": "code",
   "execution_count": null,
   "id": "defb9a21",
   "metadata": {},
   "outputs": [],
   "source": []
  },
  {
   "cell_type": "code",
   "execution_count": null,
   "id": "f8e711c3",
   "metadata": {},
   "outputs": [],
   "source": []
  },
  {
   "cell_type": "code",
   "execution_count": null,
   "id": "6d163fec",
   "metadata": {},
   "outputs": [],
   "source": []
  },
  {
   "cell_type": "code",
   "execution_count": null,
   "id": "7d96255e",
   "metadata": {},
   "outputs": [],
   "source": []
  },
  {
   "cell_type": "code",
   "execution_count": null,
   "id": "d837993c",
   "metadata": {},
   "outputs": [],
   "source": []
  },
  {
   "cell_type": "code",
   "execution_count": null,
   "id": "2b41f663",
   "metadata": {},
   "outputs": [],
   "source": []
  },
  {
   "cell_type": "code",
   "execution_count": null,
   "id": "e46f6ccd",
   "metadata": {},
   "outputs": [],
   "source": []
  },
  {
   "cell_type": "code",
   "execution_count": null,
   "id": "2e1a2a91",
   "metadata": {},
   "outputs": [],
   "source": []
  },
  {
   "cell_type": "code",
   "execution_count": null,
   "id": "252b1759",
   "metadata": {},
   "outputs": [],
   "source": []
  },
  {
   "cell_type": "code",
   "execution_count": null,
   "id": "8d971eb7",
   "metadata": {},
   "outputs": [],
   "source": []
  },
  {
   "cell_type": "code",
   "execution_count": null,
   "id": "5cc67a3c",
   "metadata": {},
   "outputs": [],
   "source": []
  },
  {
   "cell_type": "code",
   "execution_count": null,
   "id": "ae321490",
   "metadata": {},
   "outputs": [],
   "source": []
  },
  {
   "cell_type": "code",
   "execution_count": null,
   "id": "0846d739",
   "metadata": {},
   "outputs": [],
   "source": []
  },
  {
   "cell_type": "code",
   "execution_count": null,
   "id": "ee0aa7f3",
   "metadata": {},
   "outputs": [],
   "source": []
  },
  {
   "cell_type": "code",
   "execution_count": null,
   "id": "dac23a7d",
   "metadata": {},
   "outputs": [],
   "source": []
  },
  {
   "cell_type": "code",
   "execution_count": null,
   "id": "723bccb8",
   "metadata": {},
   "outputs": [],
   "source": []
  },
  {
   "cell_type": "code",
   "execution_count": null,
   "id": "104695cb",
   "metadata": {},
   "outputs": [],
   "source": []
  },
  {
   "cell_type": "code",
   "execution_count": null,
   "id": "23e2510e",
   "metadata": {},
   "outputs": [],
   "source": []
  },
  {
   "cell_type": "code",
   "execution_count": null,
   "id": "df48f1f1",
   "metadata": {},
   "outputs": [],
   "source": []
  }
 ],
 "metadata": {
  "kernelspec": {
   "display_name": "Python 3 (ipykernel)",
   "language": "python",
   "name": "python3"
  },
  "language_info": {
   "codemirror_mode": {
    "name": "ipython",
    "version": 3
   },
   "file_extension": ".py",
   "mimetype": "text/x-python",
   "name": "python",
   "nbconvert_exporter": "python",
   "pygments_lexer": "ipython3",
   "version": "3.11.4"
  }
 },
 "nbformat": 4,
 "nbformat_minor": 5
}
