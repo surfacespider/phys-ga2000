{
 "cells": [
  {
   "cell_type": "code",
   "execution_count": 14,
   "id": "ad410ce3",
   "metadata": {},
   "outputs": [
    {
     "name": "stdout",
     "output_type": "stream",
     "text": [
      "principle component of piano is 525.231 HZ\n",
      "principle component of trumpet is 1043.847 HZ\n"
     ]
    }
   ],
   "source": [
    "import numpy as np\n",
    "from numpy import fft\n",
    "import matplotlib.pyplot as plt\n",
    "piano = np.genfromtxt(\"piano.txt\", delimiter=\" \")\n",
    "trumpet = np.genfromtxt(\"trumpet.txt\", delimiter=\" \")\n",
    "N = int(len(piano))\n",
    "frequency = fft.fftfreq(N, d=1/44100)[:(N+2)//2]\n",
    "trumpet_fourier = np.fft.rfft(trumpet)\n",
    "piano_fourier = np.fft.rfft(piano)\n",
    "\n",
    "\n",
    "max_y_piano = max(piano_fourier)  # Find the maximum y value\n",
    "max_x_piano = frequency[piano_fourier.argmax()]\n",
    "\n",
    "max_y_trumpet = max(trumpet_fourier)  # Find the maximum y value\n",
    "max_x_trumpet = frequency[trumpet_fourier.argmax()]\n",
    "\n",
    "print('principle component of piano is', max_x_piano, 'HZ')\n",
    "print('principle component of trumpet is', max_x_trumpet, 'HZ')\n",
    "# #plot piano\n",
    "# plt.plot(np.arange(N)/44100,piano)\n",
    "# plt.xlabel('time (seconds)')\n",
    "# plt.ylabel('waveform')\n",
    "# plt.title('piano waveform')\n",
    "# #plt.savefig('piano.png')\n",
    "\n",
    "# #plot trumpet\n",
    "# plt.plot(np.arange(N)/44100,trumpet,linewidth = .1)\n",
    "# plt.xlabel('time (seconds)')\n",
    "# plt.ylabel('waveform')\n",
    "# plt.title('trumpet waveform')\n",
    "# plt.savefig('trumpet.png')\n",
    "\n",
    "# # plot piano frequencies\n",
    "# plt.plot(frequency,np.abs(piano_fourier))\n",
    "# plt.xlim(0,3000)\n",
    "# plt.ylabel('amplitude')\n",
    "# plt.xlabel('frequency (HZ)')\n",
    "# plt.title('piano frequencies')\n",
    "# #plt.savefig('piano_freq.png')\n",
    "\n",
    "# # plot plot trumpet freq\n",
    "# plt.plot(frequency,np.abs(trumpet_fourier))\n",
    "# plt.xlim(0,5000)\n",
    "# plt.ylabel('amplitude')\n",
    "# plt.xlabel('frequency (HZ)')\n",
    "# plt.title('trumpet frequencies')\n",
    "# #plt.savefig('trumpet_freq.png')"
   ]
  },
  {
   "cell_type": "code",
   "execution_count": 12,
   "id": "428bef5f",
   "metadata": {},
   "outputs": [
    {
     "data": {
      "text/plain": [
       "1043.847"
      ]
     },
     "execution_count": 12,
     "metadata": {},
     "output_type": "execute_result"
    }
   ],
   "source": []
  },
  {
   "cell_type": "code",
   "execution_count": 8,
   "id": "bcd9201c",
   "metadata": {},
   "outputs": [
    {
     "data": {
      "text/plain": [
       "73667799.41055577"
      ]
     },
     "execution_count": 8,
     "metadata": {},
     "output_type": "execute_result"
    }
   ],
   "source": []
  },
  {
   "cell_type": "markdown",
   "id": "17eac8c6",
   "metadata": {},
   "source": [
    "max_x"
   ]
  },
  {
   "cell_type": "code",
   "execution_count": 9,
   "id": "a2a87873",
   "metadata": {
    "scrolled": true
   },
   "outputs": [
    {
     "data": {
      "text/plain": [
       "525.231"
      ]
     },
     "execution_count": 9,
     "metadata": {},
     "output_type": "execute_result"
    }
   ],
   "source": []
  },
  {
   "cell_type": "code",
   "execution_count": null,
   "id": "7e2f465e",
   "metadata": {},
   "outputs": [],
   "source": [
    "\n"
   ]
  },
  {
   "cell_type": "code",
   "execution_count": null,
   "id": "d4780758",
   "metadata": {},
   "outputs": [],
   "source": []
  }
 ],
 "metadata": {
  "kernelspec": {
   "display_name": "Python 3 (ipykernel)",
   "language": "python",
   "name": "python3"
  },
  "language_info": {
   "codemirror_mode": {
    "name": "ipython",
    "version": 3
   },
   "file_extension": ".py",
   "mimetype": "text/x-python",
   "name": "python",
   "nbconvert_exporter": "python",
   "pygments_lexer": "ipython3",
   "version": "3.11.4"
  }
 },
 "nbformat": 4,
 "nbformat_minor": 5
}
